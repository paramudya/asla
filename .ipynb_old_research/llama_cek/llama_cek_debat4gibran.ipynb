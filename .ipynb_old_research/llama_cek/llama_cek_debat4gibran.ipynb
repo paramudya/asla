{
 "cells": [
  {
   "cell_type": "code",
   "execution_count": 9,
   "metadata": {},
   "outputs": [],
   "source": [
    "from llama_index import TreeIndex, SimpleDirectoryReader,download_loader\n",
    "import os\n",
    "import time\n",
    "\n",
    "api_dev_atwin_mentari=\"sk-ppn3qd2Rred4ctedtsUT3BlbkFJrqWiphmvDjiC7SubXnyP\"\n",
    "os.environ[\"OPENAI_API_KEY\"] = api_dev_atwin_mentari"
   ]
  },
  {
   "cell_type": "code",
   "execution_count": 10,
   "metadata": {},
   "outputs": [],
   "source": [
    "# # PDF Reader \n",
    "# PDFReader = download_loader(\"PDFReader\")\n",
    "# loader = PDFReader()\n",
    "# documents = loader.load_data(file=Path(pdf_dir)) # page as element in list"
   ]
  },
  {
   "cell_type": "code",
   "execution_count": 11,
   "metadata": {},
   "outputs": [],
   "source": [
    "txts={}\n",
    "txts[1]='''Debat keempat antarcalon wakil presiden berlangsung cukup sengit. Setiap kandidat memaparkan visi-misi dengan mengedepankan keberlangsungan kelestarian alam sebagai landasan penting dalam rencana program kerjanya. Meskipun demikian, antarkandidat tetap saling memberikan kritik dalam sejumlah pertanyaan dan sanggahan.\n",
    "Pada debat di Jakarta Convention Center, Jakarta, Minggu (21/1/2024), diangkat tema terkait dengan pembangunan berkelanjutan dan lingkungan hidup, sumber daya alam dan energi, pangan, agraria, masyarakat adat, serta desa.\n",
    "Setiap bahan pertanyaan yang dilontarkan tim panelis dapat dijawab oleh setiap cawapres dengan baik. Setiap pertanyaan atau sanggahan oleh kandidat dapat dijawab oleh kandidat lainnya, terkadang disertai contoh-contoh riilnya.\n",
    "Ada sejumlah topik yang membuat suasana cukup riuh. Cawapres nomor urut 2, Gibran Rakabuming Raka, misalnya, melontarkan pertanyaan tentang greenflation dan lithium ferrophosphate (LFP). Namun, kandidat lain menjawab diplomatis dan mendapat atensi yang semarak dari pemirsa yang hadir langsung.\n",
    "Tayangan debat keempat tersebut mendapat respons cukup tinggi dari masyarakat. Hal ini tampak dari hasil jajak pendapat Litbang Kompas saat debat berlangsung. Sebanyak 64,8 responden menyatakan menonton debat itu.\n",
    "Dibandingkan dengan ketiga debat capres-cawapres sebelumnya, antusiasme kali ini tetap terjaga. Pada debat ketiga, animo responden untuk menonton debat mencapai 63,3 persen walau turun dari debat kedua yang menyedot animo 66,5 persen responden.'''\n"
   ]
  },
  {
   "cell_type": "code",
   "execution_count": 12,
   "metadata": {},
   "outputs": [],
   "source": [
    "txts[2]=''' Gibran Rakabuming Raka merupakan putra sulung dari Joko Widodo, presiden Republik Indonesia periode 2014-2019. Gibran yang lahir di Solo pada 1 Oktober 1987 ini menghabiskan pendidikan dasarnya di kota batik ini. Namun saat lulus SMP, dia melanjutkan pendidikannya di Singapura tepatnya di Orchid Park Secondari School di tahun 2002. Kemudian setelah lulus SMA, di menempuh pendidikan di Management Development Institute of Singapore (MDIS). Selepas lulus di universitas tersebut, Gibran masih ingin berkuliah lagi hingga membuatnya melanjutkan studinya di University of Technology Insearch, Sydney, Australia hingga lulus di tahun 2010.\n",
    "\n",
    "Setelah lulus, bukan berarti dia bekerja di bidang teknologi sesuai jurusannya saat kuliah. Sebab di tahun 2010 dia mendirikan usaha katering yang diberi nama Chilli Pari. Usahanya ini kemudian mengantarkannya menduduki jabatan sebagai ketua Asosiasi Perusahaan Jasa Boga Indonesia (APJBI) Kota Solo.\n",
    "\n",
    "Di bulan Juni 2015, Gibran menikahi mantan Putri Solo yang bernama Selvi Ananda. Selvi sendiri lahir di Solo pada 9 Januari 1989. '''"
   ]
  },
  {
   "cell_type": "code",
   "execution_count": 14,
   "metadata": {},
   "outputs": [],
   "source": [
    "# String Reader\n",
    "StringIterableReader = download_loader(\"StringIterableReader\")\n",
    "str_loader = StringIterableReader()\n",
    "documents = str_loader.load_data(texts=list(txts.values())) "
   ]
  },
  {
   "cell_type": "code",
   "execution_count": 15,
   "metadata": {},
   "outputs": [],
   "source": [
    "# Tree Index\n",
    "tree_index = TreeIndex.from_documents(documents)"
   ]
  },
  {
   "cell_type": "code",
   "execution_count": 18,
   "metadata": {},
   "outputs": [],
   "source": [
    "# Query Engine\n",
    "tree_q_engine = tree_index.as_query_engine()\n"
   ]
  },
  {
   "cell_type": "code",
   "execution_count": 37,
   "metadata": {},
   "outputs": [],
   "source": [
    "# Prompt\n",
    "prompt='anak joko widodo capres no urut berapa'\n",
    "resp = tree_q_engine.query(prompt)\n"
   ]
  },
  {
   "cell_type": "markdown",
   "metadata": {},
   "source": []
  },
  {
   "cell_type": "code",
   "execution_count": 36,
   "metadata": {},
   "outputs": [
    {
     "name": "stdout",
     "output_type": "stream",
     "text": [
      "pertanyaan yg diajukan cawapres no 2 : Pertanyaan yang diajukan oleh cawapres nomor urut 2 adalah tentang greenflation dan lithium ferrophosphate (LFP).\n"
     ]
    }
   ],
   "source": [
    "prompt='pertanyaan yg diajukan cawapres no 2'\n",
    "resps[prompt] = tree_q_engine.query(prompt)\n",
    "print(prompt,':',resps[prompt].response)"
   ]
  },
  {
   "cell_type": "code",
   "execution_count": 40,
   "metadata": {},
   "outputs": [
    {
     "name": "stdout",
     "output_type": "stream",
     "text": [
      "anak joko widodo capres no urut berapa : I'm sorry, I cannot answer that question as it requires prior knowledge about the current presidential election in Indonesia.\n"
     ]
    }
   ],
   "source": [
    "prompt='anak joko widodo capres no urut berapa'\n",
    "resps[prompt] = tree_q_engine.query(prompt)\n",
    "print(prompt,':',resps[prompt].response)"
   ]
  },
  {
   "cell_type": "code",
   "execution_count": 41,
   "metadata": {},
   "outputs": [
    {
     "name": "stdout",
     "output_type": "stream",
     "text": [
      "animo debat kedua : Tidak ada informasi yang diberikan dalam konteks yang menunjukkan animo debat kedua.\n"
     ]
    }
   ],
   "source": [
    "prompt='animo debat kedua'\n",
    "resps[prompt] = tree_q_engine.query(prompt)\n",
    "print(prompt,':',resps[prompt].response)"
   ]
  },
  {
   "cell_type": "code",
   "execution_count": 43,
   "metadata": {},
   "outputs": [
    {
     "name": "stdout",
     "output_type": "stream",
     "text": [
      "dimana debat dilaksanakan : Debat dilaksanakan di Jakarta Convention Center, Jakarta.\n"
     ]
    }
   ],
   "source": [
    "prompt='dimana debat dilaksanakan'\n",
    "resps[prompt] = tree_q_engine.query(prompt)\n",
    "print(prompt,':',resps[prompt].response)"
   ]
  },
  {
   "cell_type": "code",
   "execution_count": 44,
   "metadata": {},
   "outputs": [
    {
     "name": "stdout",
     "output_type": "stream",
     "text": [
      "di negara mana debat dilaksanakan : The debate took place in Jakarta, Indonesia.\n"
     ]
    }
   ],
   "source": [
    "prompt='di negara mana debat dilaksanakan' \n",
    "resps[prompt] = tree_q_engine.query(prompt)\n",
    "print(prompt,':',resps[prompt].response) #dia tahu jkt ada di indo?"
   ]
  },
  {
   "cell_type": "code",
   "execution_count": 46,
   "metadata": {},
   "outputs": [
    {
     "name": "stdout",
     "output_type": "stream",
     "text": [
      "di benua mana debat dilaksanakan : The debate was held in Jakarta, which is located in the continent of Asia.\n"
     ]
    }
   ],
   "source": [
    "prompt='di benua mana debat dilaksanakan' \n",
    "resps[prompt] = tree_q_engine.query(prompt)\n",
    "print(prompt,':',resps[prompt].response) #oke valid, dia bisa nambahin infor dari knowledge base nya merela"
   ]
  },
  {
   "cell_type": "code",
   "execution_count": 47,
   "metadata": {},
   "outputs": [
    {
     "name": "stdout",
     "output_type": "stream",
     "text": [
      "kapan negara tempat kuliah gibran bebas dari inggris : Negara tempat kuliah Gibran bebas dari Inggris adalah Australia.\n"
     ]
    }
   ],
   "source": [
    "prompt='kapan negara tempat kuliah gibran bebas dari inggris' \n",
    "resps[prompt] = tree_q_engine.query(prompt)\n",
    "print(prompt,':',resps[prompt].response) #oke terlalu kompelks struktur kalimatnya"
   ]
  },
  {
   "cell_type": "code",
   "execution_count": 48,
   "metadata": {},
   "outputs": [
    {
     "name": "stdout",
     "output_type": "stream",
     "text": [
      "when did the country gibrans univ is located in gain their independence : The country where Gibran's university is located gained their independence before Gibran attended the university.\n"
     ]
    }
   ],
   "source": [
    "prompt='when did the country gibrans univ is located in gain their independence' \n",
    "resps[prompt] = tree_q_engine.query(prompt)\n",
    "print(prompt,':',resps[prompt].response) #oke masi kompelks struktur kalimatnya, tp lebih baik"
   ]
  },
  {
   "cell_type": "code",
   "execution_count": 49,
   "metadata": {},
   "outputs": [
    {
     "name": "stdout",
     "output_type": "stream",
     "text": [
      "when did the country gibrans univ is located in gain their independence? what year : The year when the country where Gibran's university is located gained their independence cannot be determined from the given context information.\n"
     ]
    }
   ],
   "source": [
    "prompt='when did the country gibrans univ is located in gain their independence? what year' \n",
    "resps[prompt] = tree_q_engine.query(prompt)\n",
    "print(prompt,':',resps[prompt].response) #oke masi kompelks struktur kalimatnya, tp lebih baik"
   ]
  },
  {
   "cell_type": "code",
   "execution_count": 51,
   "metadata": {},
   "outputs": [
    {
     "name": "stdout",
     "output_type": "stream",
     "text": [
      "when did australia gain their independence? what year : Empty Response\n"
     ]
    }
   ],
   "source": [
    "prompt='when did australia gain their independence? what year' \n",
    "resps[prompt] = tree_q_engine.query(prompt)\n",
    "print(prompt,':',resps[prompt].response) #oke, sangat buruk dalan menginfer info dari knowledge base"
   ]
  },
  {
   "cell_type": "code",
   "execution_count": 52,
   "metadata": {},
   "outputs": [
    {
     "name": "stdout",
     "output_type": "stream",
     "text": [
      "when did indonesia gain their independence? what year : Empty Response\n"
     ]
    }
   ],
   "source": [
    "prompt='when did indonesia gain their independence? what year' \n",
    "resps[prompt] = tree_q_engine.query(prompt)\n",
    "print(prompt,':',resps[prompt].response) #oke, sangat buruk dalan menginfer info dari knowledge base"
   ]
  },
  {
   "cell_type": "code",
   "execution_count": 53,
   "metadata": {},
   "outputs": [
    {
     "name": "stdout",
     "output_type": "stream",
     "text": [
      "whats gibran mission?  : The mission of Gibran Rakabuming Raka is not mentioned in the given context.\n"
     ]
    }
   ],
   "source": [
    "prompt='whats gibran mission? ' \n",
    "resps[prompt] = tree_q_engine.query(prompt)\n",
    "print(prompt,':',resps[prompt].response) #oke, sangat buruk dalan menginfer info dari knowledge base"
   ]
  },
  {
   "cell_type": "code",
   "execution_count": 54,
   "metadata": {},
   "outputs": [
    {
     "name": "stdout",
     "output_type": "stream",
     "text": [
      "whats th theme of the mentioned debate?  : The theme of the mentioned debate is related to sustainable development and the environment, natural resources and energy, food, agrarian issues, indigenous communities, and villages.\n"
     ]
    }
   ],
   "source": [
    "prompt='whats th theme of the mentioned debate? ' \n",
    "resps[prompt] = tree_q_engine.query(prompt)\n",
    "print(prompt,':',resps[prompt].response) "
   ]
  },
  {
   "cell_type": "code",
   "execution_count": 45,
   "metadata": {},
   "outputs": [
    {
     "name": "stdout",
     "output_type": "stream",
     "text": [
      "ayah gibran lulusan kampus apa : Gibran's father is a graduate of the University of Technology Insearch, Sydney, Australia.\n"
     ]
    }
   ],
   "source": [
    "prompt='ayah gibran lulusan kampus apa' \n",
    "resps[prompt] = tree_q_engine.query(prompt)\n",
    "print(prompt,':',resps[prompt].response) #karena ada info soal Univ UTS insearch ini, diaj d halu fokus ke info yg di teks"
   ]
  },
  {
   "cell_type": "code",
   "execution_count": null,
   "metadata": {},
   "outputs": [],
   "source": [
    "\n",
    "\n",
    "# start_time = time.time()\n",
    "# #string as documnt input\n",
    "# text = \"LlamaIndex adalah alat yang membantu Anda menggunakan model bahasa besar ( LLM ) untuk menjawab pertanyaan atau melakukan tugas dengan data Anda sendiri . Itu dapat menghubungkan berbagai jenis sumber data , seperti dokumen, database, atau situs web, dan membuatnya dapat dicari oleh LLM.Kerangka kerja seperti LLamaIndex atau Langchain yang membuatnya sangat berguna menurut saya adalah Anda dapat dengan relatif mudah menggunakan kekuatan LLM dan menerapkannya pada data Anda sendiri.\"\n",
    "# prompt = \"Jelaskan mengenai llama index?\"\n",
    "# str_loader = StringIterableReader()\n",
    "# documents = str_loader.load_data(texts=[text])\n",
    "\n",
    "# start_time = time.time()\n",
    "# tree_q_engine = tree_index.as_query_engine()\n",
    "# end_time = time.time()\n",
    "# elapsed_time = end_time - start_time\n",
    "# print('cek waktu - index to q engine')\n",
    "# print(elapsed_time)\n",
    "\n",
    "# resp=tree_q_engine.query(prompt)\n",
    "# print('cek waktu - query')\n",
    "\n",
    "\n",
    "# print(resp)"
   ]
  },
  {
   "cell_type": "markdown",
   "metadata": {},
   "source": []
  }
 ],
 "metadata": {
  "kernelspec": {
   "display_name": "Python 3",
   "language": "python",
   "name": "python3"
  },
  "language_info": {
   "codemirror_mode": {
    "name": "ipython",
    "version": 3
   },
   "file_extension": ".py",
   "mimetype": "text/x-python",
   "name": "python",
   "nbconvert_exporter": "python",
   "pygments_lexer": "ipython3",
   "version": "3.11.0"
  }
 },
 "nbformat": 4,
 "nbformat_minor": 2
}
